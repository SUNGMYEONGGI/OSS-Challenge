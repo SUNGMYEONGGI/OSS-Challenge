{
 "cells": [
  {
   "cell_type": "markdown",
   "id": "QRM43iwnIYuv",
   "metadata": {
    "id": "QRM43iwnIYuv"
   },
   "source": [
    "### 필요한 설치파일"
   ]
  },
  {
   "cell_type": "code",
   "execution_count": 1,
   "id": "8494df29",
   "metadata": {
    "colab": {
     "base_uri": "https://localhost:8080/"
    },
    "id": "8494df29",
    "outputId": "654f43cb-1b8a-4125-eb46-e111a8deefc1"
   },
   "outputs": [],
   "source": [
    "# pip install matplotlib pandas scikit-learn scipy joblib"
   ]
  },
  {
   "cell_type": "code",
   "execution_count": 47,
   "id": "5ca440fa",
   "metadata": {
    "id": "5ca440fa"
   },
   "outputs": [],
   "source": [
    "import pandas as pd\n",
    "import matplotlib.pyplot as plt"
   ]
  },
  {
   "cell_type": "markdown",
   "id": "kS4t9uXFIiIT",
   "metadata": {
    "id": "kS4t9uXFIiIT"
   },
   "source": [
    "### 데이터 로드"
   ]
  },
  {
   "cell_type": "code",
   "execution_count": 48,
   "id": "ae739249",
   "metadata": {
    "id": "ae739249"
   },
   "outputs": [],
   "source": [
    "df = pd.DataFrame({'hours': [1, 2, 3, 4, 5, 6, 7, 8, 9, 10],\n",
    "                   'score': [60, 63, 64, 67, 68, 71, 72, 75, 76, 78]})"
   ]
  },
  {
   "cell_type": "markdown",
   "id": "BapT3Tz3IklL",
   "metadata": {
    "id": "BapT3Tz3IklL"
   },
   "source": [
    "### 데이터 시각화"
   ]
  },
  {
   "cell_type": "code",
   "execution_count": 49,
   "id": "199a3885",
   "metadata": {
    "colab": {
     "base_uri": "https://localhost:8080/",
     "height": 363
    },
    "id": "199a3885",
    "outputId": "90fdab44-c305-412b-cb72-fca4496fb7a6"
   },
   "outputs": [
    {
     "data": {
      "text/html": [
       "<div>\n",
       "<style scoped>\n",
       "    .dataframe tbody tr th:only-of-type {\n",
       "        vertical-align: middle;\n",
       "    }\n",
       "\n",
       "    .dataframe tbody tr th {\n",
       "        vertical-align: top;\n",
       "    }\n",
       "\n",
       "    .dataframe thead th {\n",
       "        text-align: right;\n",
       "    }\n",
       "</style>\n",
       "<table border=\"1\" class=\"dataframe\">\n",
       "  <thead>\n",
       "    <tr style=\"text-align: right;\">\n",
       "      <th></th>\n",
       "      <th>hours</th>\n",
       "      <th>score</th>\n",
       "    </tr>\n",
       "  </thead>\n",
       "  <tbody>\n",
       "    <tr>\n",
       "      <th>0</th>\n",
       "      <td>1</td>\n",
       "      <td>60</td>\n",
       "    </tr>\n",
       "    <tr>\n",
       "      <th>1</th>\n",
       "      <td>2</td>\n",
       "      <td>63</td>\n",
       "    </tr>\n",
       "    <tr>\n",
       "      <th>2</th>\n",
       "      <td>3</td>\n",
       "      <td>64</td>\n",
       "    </tr>\n",
       "    <tr>\n",
       "      <th>3</th>\n",
       "      <td>4</td>\n",
       "      <td>67</td>\n",
       "    </tr>\n",
       "    <tr>\n",
       "      <th>4</th>\n",
       "      <td>5</td>\n",
       "      <td>68</td>\n",
       "    </tr>\n",
       "    <tr>\n",
       "      <th>5</th>\n",
       "      <td>6</td>\n",
       "      <td>71</td>\n",
       "    </tr>\n",
       "    <tr>\n",
       "      <th>6</th>\n",
       "      <td>7</td>\n",
       "      <td>72</td>\n",
       "    </tr>\n",
       "    <tr>\n",
       "      <th>7</th>\n",
       "      <td>8</td>\n",
       "      <td>75</td>\n",
       "    </tr>\n",
       "    <tr>\n",
       "      <th>8</th>\n",
       "      <td>9</td>\n",
       "      <td>76</td>\n",
       "    </tr>\n",
       "    <tr>\n",
       "      <th>9</th>\n",
       "      <td>10</td>\n",
       "      <td>78</td>\n",
       "    </tr>\n",
       "  </tbody>\n",
       "</table>\n",
       "</div>"
      ],
      "text/plain": [
       "   hours  score\n",
       "0      1     60\n",
       "1      2     63\n",
       "2      3     64\n",
       "3      4     67\n",
       "4      5     68\n",
       "5      6     71\n",
       "6      7     72\n",
       "7      8     75\n",
       "8      9     76\n",
       "9     10     78"
      ]
     },
     "execution_count": 49,
     "metadata": {},
     "output_type": "execute_result"
    }
   ],
   "source": [
    "df"
   ]
  },
  {
   "cell_type": "code",
   "execution_count": 50,
   "id": "1f2c39f7",
   "metadata": {
    "colab": {
     "base_uri": "https://localhost:8080/",
     "height": 449
    },
    "id": "1f2c39f7",
    "outputId": "473c8b50-2405-4de8-bc39-f60cbee8c7ce"
   },
   "outputs": [
    {
     "data": {
      "image/png": "[encoded data removed]",
      "text/plain": [
       "<Figure size 640x480 with 1 Axes>"
      ]
     },
     "metadata": {},
     "output_type": "display_data"
    }
   ],
   "source": [
    "plt.scatter(df.hours, df.score)  # 점도표\n",
    "plt.xlabel('Hours')\n",
    "plt.ylabel('Score')\n",
    "plt.show()"
   ]
  },
  {
   "cell_type": "markdown",
   "id": "ZElYgZQBInc8",
   "metadata": {
    "id": "ZElYgZQBInc8"
   },
   "source": [
    "### 데이터 분할"
   ]
  },
  {
   "cell_type": "code",
   "execution_count": 51,
   "id": "c223b851",
   "metadata": {
    "id": "c223b851"
   },
   "outputs": [],
   "source": [
    "# 학습 데이터 X와 라벨데이터 y 로 데이터 분할\n",
    "X = df[['hours']]\n",
    "y = df[['score']]"
   ]
  },
  {
   "cell_type": "code",
   "execution_count": 52,
   "id": "27b5a8a2",
   "metadata": {
    "id": "27b5a8a2"
   },
   "outputs": [],
   "source": [
    "# 팬더스 데이터를 numpy 포맷으로 변환\n",
    "X = X.to_numpy()\n",
    "y = y.to_numpy()"
   ]
  },
  {
   "cell_type": "markdown",
   "id": "jA9PpQh0JLl_",
   "metadata": {
    "id": "jA9PpQh0JLl_"
   },
   "source": [
    "### 선형회귀 또는 다른 회귀 모델 생성"
   ]
  },
  {
   "cell_type": "code",
   "execution_count": 56,
   "id": "9cdb893e",
   "metadata": {
    "colab": {
     "base_uri": "https://localhost:8080/",
     "height": 75
    },
    "id": "9cdb893e",
    "outputId": "7931eb09-2997-4489-ee12-80573bcad0c9"
   },
   "outputs": [
    {
     "data": {
      "text/html": [
       "<style>#sk-container-id-5 {color: black;}#sk-container-id-5 pre{padding: 0;}#sk-container-id-5 div.sk-toggleable {background-color: white;}#sk-container-id-5 label.sk-toggleable__label {cursor: pointer;display: block;width: 100%;margin-bottom: 0;padding: 0.3em;box-sizing: border-box;text-align: center;}#sk-container-id-5 label.sk-toggleable__label-arrow:before {content: \"▸\";float: left;margin-right: 0.25em;color: #696969;}#sk-container-id-5 label.sk-toggleable__label-arrow:hover:before {color: black;}#sk-container-id-5 div.sk-estimator:hover label.sk-toggleable__label-arrow:before {color: black;}#sk-container-id-5 div.sk-toggleable__content {max-height: 0;max-width: 0;overflow: hidden;text-align: left;background-color: #f0f8ff;}#sk-container-id-5 div.sk-toggleable__content pre {margin: 0.2em;color: black;border-radius: 0.25em;background-color: #f0f8ff;}#sk-container-id-5 input.sk-toggleable__control:checked~div.sk-toggleable__content {max-height: 200px;max-width: 100%;overflow: auto;}#sk-container-id-5 input.sk-toggleable__control:checked~label.sk-toggleable__label-arrow:before {content: \"▾\";}#sk-container-id-5 div.sk-estimator input.sk-toggleable__control:checked~label.sk-toggleable__label {background-color: #d4ebff;}#sk-container-id-5 div.sk-label input.sk-toggleable__control:checked~label.sk-toggleable__label {background-color: #d4ebff;}#sk-container-id-5 input.sk-hidden--visually {border: 0;clip: rect(1px 1px 1px 1px);clip: rect(1px, 1px, 1px, 1px);height: 1px;margin: -1px;overflow: hidden;padding: 0;position: absolute;width: 1px;}#sk-container-id-5 div.sk-estimator {font-family: monospace;background-color: #f0f8ff;border: 1px dotted black;border-radius: 0.25em;box-sizing: border-box;margin-bottom: 0.5em;}#sk-container-id-5 div.sk-estimator:hover {background-color: #d4ebff;}#sk-container-id-5 div.sk-parallel-item::after {content: \"\";width: 100%;border-bottom: 1px solid gray;flex-grow: 1;}#sk-container-id-5 div.sk-label:hover label.sk-toggleable__label {background-color: #d4ebff;}#sk-container-id-5 div.sk-serial::before {content: \"\";position: absolute;border-left: 1px solid gray;box-sizing: border-box;top: 0;bottom: 0;left: 50%;z-index: 0;}#sk-container-id-5 div.sk-serial {display: flex;flex-direction: column;align-items: center;background-color: white;padding-right: 0.2em;padding-left: 0.2em;position: relative;}#sk-container-id-5 div.sk-item {position: relative;z-index: 1;}#sk-container-id-5 div.sk-parallel {display: flex;align-items: stretch;justify-content: center;background-color: white;position: relative;}#sk-container-id-5 div.sk-item::before, #sk-container-id-5 div.sk-parallel-item::before {content: \"\";position: absolute;border-left: 1px solid gray;box-sizing: border-box;top: 0;bottom: 0;left: 50%;z-index: -1;}#sk-container-id-5 div.sk-parallel-item {display: flex;flex-direction: column;z-index: 1;position: relative;background-color: white;}#sk-container-id-5 div.sk-parallel-item:first-child::after {align-self: flex-end;width: 50%;}#sk-container-id-5 div.sk-parallel-item:last-child::after {align-self: flex-start;width: 50%;}#sk-container-id-5 div.sk-parallel-item:only-child::after {width: 0;}#sk-container-id-5 div.sk-dashed-wrapped {border: 1px dashed gray;margin: 0 0.4em 0.5em 0.4em;box-sizing: border-box;padding-bottom: 0.4em;background-color: white;}#sk-container-id-5 div.sk-label label {font-family: monospace;font-weight: bold;display: inline-block;line-height: 1.2em;}#sk-container-id-5 div.sk-label-container {text-align: center;}#sk-container-id-5 div.sk-container {/* jupyter's `normalize.less` sets `[hidden] { display: none; }` but bootstrap.min.css set `[hidden] { display: none !important; }` so we also need the `!important` here to be able to override the default hidden behavior on the sphinx rendered scikit-learn.org. See: https://github.com/scikit-learn/scikit-learn/issues/21755 */display: inline-block !important;position: relative;}#sk-container-id-5 div.sk-text-repr-fallback {display: none;}</style><div id=\"sk-container-id-5\" class=\"sk-top-container\"><div class=\"sk-text-repr-fallback\"><pre>LinearRegression()</pre><b>In a Jupyter environment, please rerun this cell to show the HTML representation or trust the notebook. <br />On GitHub, the HTML representation is unable to render, please try loading this page with nbviewer.org.</b></div><div class=\"sk-container\" hidden><div class=\"sk-item\"><div class=\"sk-estimator sk-toggleable\"><input class=\"sk-toggleable__control sk-hidden--visually\" id=\"sk-estimator-id-5\" type=\"checkbox\" checked><label for=\"sk-estimator-id-5\" class=\"sk-toggleable__label sk-toggleable__label-arrow\">LinearRegression</label><div class=\"sk-toggleable__content\"><pre>LinearRegression()</pre></div></div></div></div></div>"
      ],
      "text/plain": [
       "LinearRegression()"
      ]
     },
     "execution_count": 56,
     "metadata": {},
     "output_type": "execute_result"
    }
   ],
   "source": [
    "# 선형회기 머신러닝 기법 적용\n",
    "from sklearn.linear_model import LinearRegression\n",
    "\n",
    "regressor = LinearRegression()     # scikit learn LinearRegression 개체 생성\n",
    "regressor.fit(X, y)    # fit 메서드를 사용해 모델 트레이닝 실행"
   ]
  },
  {
   "cell_type": "code",
   "execution_count": 54,
   "id": "89a5f34c",
   "metadata": {
    "colab": {
     "base_uri": "https://localhost:8080/",
     "height": 81
    },
    "id": "89a5f34c",
    "outputId": "19a022a4-5f48-46ad-f8f8-a0d5d32ea13f"
   },
   "outputs": [
    {
     "data": {
      "text/html": [
       "<div>\n",
       "<style scoped>\n",
       "    .dataframe tbody tr th:only-of-type {\n",
       "        vertical-align: middle;\n",
       "    }\n",
       "\n",
       "    .dataframe tbody tr th {\n",
       "        vertical-align: top;\n",
       "    }\n",
       "\n",
       "    .dataframe thead th {\n",
       "        text-align: right;\n",
       "    }\n",
       "</style>\n",
       "<table border=\"1\" class=\"dataframe\">\n",
       "  <thead>\n",
       "    <tr style=\"text-align: right;\">\n",
       "      <th></th>\n",
       "      <th>hours</th>\n",
       "    </tr>\n",
       "  </thead>\n",
       "  <tbody>\n",
       "    <tr>\n",
       "      <th>0</th>\n",
       "      <td>14</td>\n",
       "    </tr>\n",
       "  </tbody>\n",
       "</table>\n",
       "</div>"
      ],
      "text/plain": [
       "   hours\n",
       "0     14"
      ]
     },
     "execution_count": 54,
     "metadata": {},
     "output_type": "execute_result"
    }
   ],
   "source": [
    "# 테스트 데이터 생성\n",
    "test_df = pd.DataFrame({'hours': [14]})  # 학습 데이터에 없던 값\n",
    "test_df"
   ]
  },
  {
   "cell_type": "code",
   "execution_count": 55,
   "id": "8e8f6eb3",
   "metadata": {
    "colab": {
     "base_uri": "https://localhost:8080/"
    },
    "id": "8e8f6eb3",
    "outputId": "69584e74-ff1b-4beb-f52c-7625a764fa12"
   },
   "outputs": [
    {
     "data": {
      "text/plain": [
       "array([78])"
      ]
     },
     "execution_count": 55,
     "metadata": {},
     "output_type": "execute_result"
    }
   ],
   "source": [
    "X_test = test_df.to_numpy ()\n",
    "y_pred = regressor.predict(X_test)\n",
    "y_pred"
   ]
  },
  {
   "cell_type": "code",
   "execution_count": 39,
   "id": "ad8aa9b1",
   "metadata": {
    "id": "ad8aa9b1"
   },
   "outputs": [],
   "source": [
    "# 정확도 체크\n",
    "from sklearn.model_selection import train_test_split\n",
    "\n",
    "# 데이터를 트레이닝 데이터셋과 테스트 데이터셋으로 분리\n",
    "X_train, X_test, y_train, y_test = train_test_split(\n",
    "                                                    X,\n",
    "                                                    y,\n",
    "                                                    test_size=0.3,    # 7:3의 비율로 분리\n",
    "                                                    random_state=42\n",
    "                                                   )\n"
   ]
  },
  {
   "cell_type": "code",
   "execution_count": 40,
   "id": "067da54c",
   "metadata": {
    "colab": {
     "base_uri": "https://localhost:8080/"
    },
    "id": "067da54c",
    "outputId": "000f418e-9226-480c-969c-cfcba8ae3f6d"
   },
   "outputs": [
    {
     "data": {
      "text/plain": [
       "array([[ 1],\n",
       "       [ 8],\n",
       "       [ 3],\n",
       "       [10],\n",
       "       [ 5],\n",
       "       [ 4],\n",
       "       [ 7]])"
      ]
     },
     "execution_count": 40,
     "metadata": {},
     "output_type": "execute_result"
    }
   ],
   "source": [
    "X_train\n",
    "# 7건의 트레이닝 데이터"
   ]
  },
  {
   "cell_type": "code",
   "execution_count": 41,
   "id": "1d974620",
   "metadata": {
    "colab": {
     "base_uri": "https://localhost:8080/"
    },
    "id": "1d974620",
    "outputId": "6c5c0d09-39ee-486d-8d67-acff9263385a"
   },
   "outputs": [
    {
     "data": {
      "text/plain": [
       "array([[9],\n",
       "       [2],\n",
       "       [6]])"
      ]
     },
     "execution_count": 41,
     "metadata": {},
     "output_type": "execute_result"
    }
   ],
   "source": [
    "X_test\n",
    "# 3건의 테스트 데이터"
   ]
  },
  {
   "cell_type": "code",
   "execution_count": 43,
   "id": "d3e10be4",
   "metadata": {
    "id": "d3e10be4"
   },
   "outputs": [
    {
     "name": "stderr",
     "output_type": "stream",
     "text": [
      "/Users/seongmyeong-gi/anaconda3/envs/OSS-Challenge/lib/python3.10/site-packages/sklearn/utils/validation.py:1184: DataConversionWarning: A column-vector y was passed when a 1d array was expected. Please change the shape of y to (n_samples, ), for example using ravel().\n",
      "  y = column_or_1d(y, warn=True)\n"
     ]
    }
   ],
   "source": [
    "regressor = LinearRegression()     # scikit learn LinearRegression 개체 생성\n",
    "regressor.fit(X_train, y_train)    # fit 메서드를 사용해 모델 트레이닝 실행\n",
    "\n",
    "y_pred = regressor.predict(X_test)"
   ]
  },
  {
   "cell_type": "code",
   "execution_count": 44,
   "id": "c0c48b13",
   "metadata": {
    "colab": {
     "base_uri": "https://localhost:8080/"
    },
    "id": "c0c48b13",
    "outputId": "ed8c5740-d8cd-4d16-ff55-d826460f2712"
   },
   "outputs": [
    {
     "data": {
      "text/plain": [
       "array([78, 60, 72])"
      ]
     },
     "execution_count": 44,
     "metadata": {},
     "output_type": "execute_result"
    }
   ],
   "source": [
    "y_pred"
   ]
  },
  {
   "cell_type": "markdown",
   "id": "yseu5_4pJU_3",
   "metadata": {
    "id": "yseu5_4pJU_3"
   },
   "source": [
    "### 모델 정확도 평가 & MSE, MAE 사용"
   ]
  },
  {
   "cell_type": "code",
   "execution_count": 45,
   "id": "e58592f6",
   "metadata": {
    "colab": {
     "base_uri": "https://localhost:8080/"
    },
    "id": "e58592f6",
    "outputId": "4669dede-c931-4478-cef4-4c9c0d3f4a83"
   },
   "outputs": [
    {
     "name": "stdout",
     "output_type": "stream",
     "text": [
      "Mean Squared Error: 4.666666666666667\n"
     ]
    }
   ],
   "source": [
    "# https://www.sqler.com/board_MachineLearning_AI_tip_lecture/1096470\n",
    "from sklearn import metrics\n",
    "\n",
    "# MSE - 에러율\n",
    "print('Mean Squared Error:', metrics.mean_squared_error(y_test, y_pred))"
   ]
  },
  {
   "cell_type": "code",
   "execution_count": 46,
   "id": "8c30c902",
   "metadata": {
    "colab": {
     "base_uri": "https://localhost:8080/"
    },
    "id": "8c30c902",
    "outputId": "29d43a0e-8853-4771-85c3-556903e04690"
   },
   "outputs": [
    {
     "name": "stdout",
     "output_type": "stream",
     "text": [
      "Mean absolute error:  2.0\n"
     ]
    }
   ],
   "source": [
    "print('Mean absolute error: ',metrics.mean_absolute_error(y_test, y_pred))"
   ]
  },
  {
   "cell_type": "markdown",
   "id": "LtyioEnbJb1j",
   "metadata": {
    "id": "LtyioEnbJb1j"
   },
   "source": [
    "### 모델 저장"
   ]
  },
  {
   "cell_type": "code",
   "execution_count": 18,
   "id": "4bca251e",
   "metadata": {
    "id": "4bca251e"
   },
   "outputs": [],
   "source": [
    "import joblib"
   ]
  },
  {
   "cell_type": "code",
   "execution_count": 19,
   "id": "446b9c4e",
   "metadata": {
    "colab": {
     "base_uri": "https://localhost:8080/"
    },
    "id": "446b9c4e",
    "outputId": "d072eeb9-53c6-45bd-986f-cc54137a272a"
   },
   "outputs": [
    {
     "data": {
      "text/plain": [
       "['model2model2.pkl']"
      ]
     },
     "execution_count": 19,
     "metadata": {},
     "output_type": "execute_result"
    }
   ],
   "source": [
    "# 모델 저장\n",
    "# joblib.dump(regressor, 'model.pkl')"
   ]
  },
  {
   "cell_type": "code",
   "execution_count": 20,
   "id": "b013f64c",
   "metadata": {
    "id": "b013f64c"
   },
   "outputs": [],
   "source": [
    "# 모델을 로드하고 예측 실행\n",
    "loaded_model = joblib.load('./data/weights/model.pkl')"
   ]
  },
  {
   "cell_type": "code",
   "execution_count": 22,
   "id": "689273d8",
   "metadata": {
    "colab": {
     "base_uri": "https://localhost:8080/"
    },
    "id": "689273d8",
    "outputId": "2dd5864d-2856-44f5-a10e-bf9b332057cb"
   },
   "outputs": [
    {
     "data": {
      "text/plain": [
       "array([[108.67326733]])"
      ]
     },
     "execution_count": 22,
     "metadata": {},
     "output_type": "execute_result"
    }
   ],
   "source": [
    "X_test = pd.DataFrame({'hours': [20]}).to_numpy ()  # 14를 df에서 np로 변환하고 predict 수행\n",
    "y_pred = loaded_model.predict(X_test)\n",
    "y_pred"
   ]
  }
 ],
 "metadata": {
  "colab": {
   "provenance": []
  },
  "kernelspec": {
   "display_name": "Python 3 (ipykernel)",
   "language": "python",
   "name": "python3"
  },
  "language_info": {
   "codemirror_mode": {
    "name": "ipython",
    "version": 3
   },
   "file_extension": ".py",
   "mimetype": "text/x-python",
   "name": "python",
   "nbconvert_exporter": "python",
   "pygments_lexer": "ipython3",
   "version": "3.10.0"
  }
 },
 "nbformat": 4,
 "nbformat_minor": 5
}
